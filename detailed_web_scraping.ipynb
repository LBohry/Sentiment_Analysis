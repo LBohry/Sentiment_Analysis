{
  "cells": [
    {
      "cell_type": "code",
      "execution_count": null,
      "id": "3ad554bf",
      "metadata": {
        "id": "3ad554bf",
        "outputId": "42957db1-aac9-480c-8b5b-5e56cdedf382"
      },
      "outputs": [
        {
          "ename": "AttributeError",
          "evalue": "'list' object has no attribute 'h3'",
          "output_type": "error",
          "traceback": [
            "\u001b[1;31m---------------------------------------------------------------------------\u001b[0m",
            "\u001b[1;31mAttributeError\u001b[0m                            Traceback (most recent call last)",
            "\u001b[1;32mC:\\Users\\SOSORD~1\\AppData\\Local\\Temp/ipykernel_10504/4037356776.py\u001b[0m in \u001b[0;36m<module>\u001b[1;34m\u001b[0m\n\u001b[0;32m     32\u001b[0m \u001b[1;33m\u001b[0m\u001b[0m\n\u001b[0;32m     33\u001b[0m     \u001b[0mmovie_data\u001b[0m \u001b[1;33m=\u001b[0m \u001b[0msoup\u001b[0m\u001b[1;33m.\u001b[0m\u001b[0mfindAll\u001b[0m\u001b[1;33m(\u001b[0m\u001b[1;34m'div'\u001b[0m\u001b[1;33m,\u001b[0m \u001b[0mattrs\u001b[0m\u001b[1;33m=\u001b[0m \u001b[1;33m{\u001b[0m\u001b[1;34m'class'\u001b[0m\u001b[1;33m:\u001b[0m \u001b[1;34m'subpage_title_block'\u001b[0m\u001b[1;33m}\u001b[0m\u001b[1;33m)\u001b[0m\u001b[1;33m\u001b[0m\u001b[1;33m\u001b[0m\u001b[0m\n\u001b[1;32m---> 34\u001b[1;33m     \u001b[0mname\u001b[0m \u001b[1;33m=\u001b[0m \u001b[0mreviews\u001b[0m\u001b[1;33m.\u001b[0m\u001b[0mh3\u001b[0m\u001b[1;33m.\u001b[0m\u001b[0ma\u001b[0m\u001b[1;33m.\u001b[0m\u001b[0mtext\u001b[0m\u001b[1;33m\u001b[0m\u001b[1;33m\u001b[0m\u001b[0m\n\u001b[0m\u001b[0;32m     35\u001b[0m     \u001b[0mmovie_name\u001b[0m\u001b[1;33m.\u001b[0m\u001b[0mappend\u001b[0m\u001b[1;33m(\u001b[0m\u001b[0mname\u001b[0m\u001b[1;33m)\u001b[0m\u001b[1;33m\u001b[0m\u001b[1;33m\u001b[0m\u001b[0m\n\u001b[0;32m     36\u001b[0m \u001b[1;33m\u001b[0m\u001b[0m\n",
            "\u001b[1;31mAttributeError\u001b[0m: 'list' object has no attribute 'h3'"
          ]
        }
      ],
      "source": [
        "#importing required Libraries\n",
        "import pandas as pd   #to create dataframe\n",
        "import requests       #to send the request to the URL\n",
        "from bs4 import BeautifulSoup #to get the content in the form of HTML\n",
        "import numpy as np \n",
        "import openpyxl\n",
        "from openpyxl.workbook import Workbook\n",
        "from lxml import etree\n",
        "from time import sleep\n",
        "\n",
        "df_review_content = []\n",
        "url1 =  \"https://www.imdb.com/title/tt0068646/reviews?spoiler=hide&sort=curated&dir=desc&ratingFilter=0\"\n",
        "resp = requests.get(url1)\n",
        "soup = BeautifulSoup(resp.content, 'html.parser')\n",
        "review_content = BeautifulSoup(resp.content, 'lxml')\n",
        "review_content_converted = etree.HTML(str(review_content))\n",
        "\n",
        "\n",
        "movie_name = []\n",
        "year = []\n",
        "rating = []\n",
        "reviews = []\n",
        "\n",
        "\n",
        "#storing the meaningfull required data in the variable\n",
        "for review in review_content.select('.lister-item-content'):\n",
        "    try:\n",
        "        review= review.select('.show-more__control')[0].get_text().strip()\n",
        "    except IndexError:\n",
        "        continue\n",
        "        reviews.append(review)\n",
        "        \n",
        "    movie_data = soup.findAll('div', attrs= {'class': 'subpage_title_block'})\n",
        "    name = reviews.h3.a.text\n",
        "    movie_name.append(name)\n",
        "\n",
        "    year_of_release = reviews.h3.find('span', class_ = 'lister-item-year text-muted unbold').text.replace('(', '').replace(')', '')\n",
        "    year.append(year_of_release)\n",
        "    \n",
        "#creating a dataframe using pandas library\n",
        "movie_DF = pd.DataFrame({'Name of movie': movie_name, 'Year of relase': year_of_release,'Movie reviews ': review})\n",
        "#Saving data in Excel file:\n",
        "\n",
        "movie_DF.to_excel(\"Top_100_IMDB_Movieees.xlsx\")\n",
        "movie_DF.head(1)"
      ]
    },
    {
      "cell_type": "code",
      "execution_count": null,
      "id": "a471c90b",
      "metadata": {
        "id": "a471c90b"
      },
      "outputs": [],
      "source": []
    }
  ],
  "metadata": {
    "kernelspec": {
      "display_name": "Python 3 (ipykernel)",
      "language": "python",
      "name": "python3"
    },
    "language_info": {
      "codemirror_mode": {
        "name": "ipython",
        "version": 3
      },
      "file_extension": ".py",
      "mimetype": "text/x-python",
      "name": "python",
      "nbconvert_exporter": "python",
      "pygments_lexer": "ipython3",
      "version": "3.9.7"
    },
    "colab": {
      "provenance": []
    }
  },
  "nbformat": 4,
  "nbformat_minor": 5
}